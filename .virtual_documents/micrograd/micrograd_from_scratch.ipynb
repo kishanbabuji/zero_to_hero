import math
import numpy as np
import matplotlib.pyplot as plt
import graphviz
%matplotlib inline


class Value:
    # Children initialized as an empty tuple (for convenience and efficiency)
    # op initialized as empty string
    def __init__(self, data, _children=(), _op=''):
        self.data = data
        # set of empty children
        self._prev = set(_children)
        self._op = _op
        
    def __repr__(self):
        return f"Value(data= {self.data})"
    
    def __add__(self, other):
        out = Value(self.data + other.data, (self, other), '+')
        return out
    
    def __mul__(self, other):
        out = Value(self.data * other.data, (self, other), '*')
        return out
    
a = Value(2.0)
b = Value(-3.0)
c = Value(10.0)
d = a*b + c
d


#graphviz is an open source graph visualizer
from graphviz import Digraph

def trace(root):
  # builds a set of all nodes and edges in a graph
  nodes, edges = set(), set()
  def build(v):
    if v not in nodes:
      nodes.add(v)
      for child in v._prev:
        edges.add((child, v))
        build(child)
  build(root)
  return nodes, edges

def draw_dot(root):
  dot = Digraph(format='svg', graph_attr={'rankdir': 'LR'}) # LR = left to right
  
  nodes, edges = trace(root)
  for n in nodes:
    uid = str(id(n))
    # for any value in the graph, create a rectangular ('record') node for it
    dot.node(name = uid, label = "{ %s | data %.4f | grad %.4f }" % (n.label, n.data, n.grad), shape='record')
    if n._op:
      # if this value is a result of some operation, create an op node for it
      dot.node(name = uid + n._op, label = n._op)
      # and connect this node to it
      dot.edge(uid + n._op, uid)

  for n1, n2 in edges:
    # connect n1 to the op node of n2
    dot.edge(str(id(n1)), str(id(n2)) + n2._op)

  return dot






